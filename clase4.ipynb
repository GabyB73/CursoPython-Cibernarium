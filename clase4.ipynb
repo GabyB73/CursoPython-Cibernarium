{
 "cells": [
  {
   "cell_type": "code",
   "execution_count": null,
   "metadata": {},
   "outputs": [],
   "source": [
    "#El dataframe de pandas sirve para trabajar con estructuras de dos dimensiones y se pueden cargar \n",
    "#de dos maneras, manualmente o leyendo de un fichero, base de datos o cualquier origen de datos.\n",
    "#Dataframe creado manualmente\n",
    "import pandas as pd\n",
    "clase = pd.DataFrame([{\"Nombre\":\"Pedro\",\"Estatura\":1.72, \"Edad\":28},\n",
    "                      {\"Nombre\":\"Maria\",\"Estatura\":1.73, \"Edad\":45},\n",
    "                      {\"Nombre\":\"Andrea\",\"Estatura\":1.68, \"Edad\":61},\n",
    "                      {\"Nombre\":\"Marcos\",\"Estatura\":1.65, \"Edad\":19}])\n",
    "clase"
   ]
  },
  {
   "cell_type": "code",
   "execution_count": null,
   "metadata": {},
   "outputs": [],
   "source": [
    "#como ver solamente un campo o columna\n",
    "clase[\"Nombre\"]"
   ]
  },
  {
   "cell_type": "code",
   "execution_count": null,
   "metadata": {},
   "outputs": [],
   "source": [
    "clase[\"Edad\"]"
   ]
  },
  {
   "cell_type": "code",
   "execution_count": null,
   "metadata": {},
   "outputs": [],
   "source": [
    "clase[\"Edad\"].sort_values(ascending=True)"
   ]
  },
  {
   "cell_type": "code",
   "execution_count": null,
   "metadata": {},
   "outputs": [],
   "source": [
    "#Funciones de resumen\n",
    "print(clase[\"Edad\"].sum())\n",
    "print(clase[\"Estatura\"].max())\n",
    "print(\"la persona de menos estatura\", clase[\"Estatura\"].min())\n",
    "#promedio de edad con redondeo\n",
    "print(\"El promedio de edad es\",round(clase[\"Edad\"].mean(),2))"
   ]
  },
  {
   "cell_type": "code",
   "execution_count": null,
   "metadata": {},
   "outputs": [],
   "source": [
    "#como añadir columnas a un dataframe, tenemmos tres opciones:\n",
    "#Opción A: Poniendo un valor manual\n",
    "#Opción B: Haciendo un calculo a partirde una oi varias columnas existentes\n",
    "#Opción C:Aplicando una función con Apply\n",
    "\n",
    "#Opción A\n",
    "clase[\"Colegio\"] = \"IT Academy\"\n",
    "clase"
   ]
  },
  {
   "cell_type": "code",
   "execution_count": null,
   "metadata": {},
   "outputs": [],
   "source": [
    "#Opción B\n",
    "clase[\"Edad2\"] = clase[\"Edad\"] + 2  #puedo sumar 2 a la edad porque edad es un campo numerico\n",
    "clase"
   ]
  },
  {
   "cell_type": "code",
   "execution_count": null,
   "metadata": {},
   "outputs": [],
   "source": [
    "clase[\"Diferencia\"] = clase[\"Edad2\"] - clase[\"Edad\"]\n",
    "clase\n"
   ]
  },
  {
   "cell_type": "code",
   "execution_count": null,
   "metadata": {},
   "outputs": [],
   "source": [
    "#Incrementar la estatura de cada alumno en un 10%\n",
    "clase[\"Estatura2\"] = clase[\"Estatura\"] + clase[\"Estatura\"]*0.10\n",
    "clase[\"Estatura3\"] = clase[\"Estatura\"]*1.10 #otra forma de hacerlo directo\n",
    "clase"
   ]
  },
  {
   "cell_type": "code",
   "execution_count": null,
   "metadata": {},
   "outputs": [],
   "source": [
    "#Opción C: con apply, restar 2 años a los alumnos mayores de 30 años\n",
    "def resta2(edad):\n",
    "    if edad>30:\n",
    "        return edad-2\n",
    "    else:\n",
    "        return edad\n",
    "#Crear la columna nueva con la función apply\n",
    "clase[\"Edad5\"] = clase[\"Edad\"].apply(resta2)\n",
    "clase\n"
   ]
  },
  {
   "cell_type": "code",
   "execution_count": null,
   "metadata": {},
   "outputs": [],
   "source": [
    "#Como eliminar una columna, con la instrucción drop + el parámetro axis\n",
    "#axis = 1 significa que se va a eliminar una columna\n",
    "clase = clase.drop([\"Estatura3\"], axis=1)\n",
    "clase"
   ]
  },
  {
   "cell_type": "code",
   "execution_count": null,
   "metadata": {},
   "outputs": [],
   "source": [
    "#Elimina directo, sin tener que asignarlo otra vez a él mismo\n",
    "clase.drop([\"Edad2\"], axis=1, inplace=True)"
   ]
  },
  {
   "cell_type": "code",
   "execution_count": null,
   "metadata": {},
   "outputs": [],
   "source": [
    "#Para eliminar una fila, lo mismo que con las columnas, pero con axis=0\n",
    "clase.drop([2], axis=0, inplace=True)\n",
    "clase"
   ]
  },
  {
   "cell_type": "code",
   "execution_count": null,
   "metadata": {},
   "outputs": [],
   "source": [
    "#Cargar un dataframe a partir de un fichero plano, en este caso será un csv\n",
    "#para cargar un csv, no necesito ninguna librería adicional, ya que pandas ya lo trae por defecto\n",
    "#solamente necesito la ruta del fichero\n",
    "import pandas as pd\n",
    "titanic = pd.read_csv(r\"C:\\Users\\geb_b\\Downloads\\Titanic.csv\")\n",
    "#No funciona porque no reconoce el slash \\, varias opciones:\n",
    "#Primero poner una r antes de la ruta\n",
    "#Segunda opción cambiar el slash por una barra inclinada /\n",
    "#Tercera opción cambiar el slash por dos slash \\\\\n",
    "titanic\n"
   ]
  },
  {
   "cell_type": "code",
   "execution_count": null,
   "metadata": {},
   "outputs": [],
   "source": [
    "#Quiero ver solamente los 10 primeros registros, voy a usar la función head\n",
    "titanic.head(10)"
   ]
  },
  {
   "cell_type": "code",
   "execution_count": null,
   "metadata": {},
   "outputs": [],
   "source": [
    "#Quiero ver solamente los 10 últimos registros, voy a usar la función tail\n",
    "titanic.tail(10)"
   ]
  },
  {
   "cell_type": "code",
   "execution_count": null,
   "metadata": {},
   "outputs": [],
   "source": [
    "#Ver solamente los 5 primeros nombres\n",
    "titanic[\"Name\"].head()"
   ]
  },
  {
   "cell_type": "code",
   "execution_count": null,
   "metadata": {},
   "outputs": [],
   "source": [
    "#Ver solamente los 5 primeros nombres, pero en orden ascendente\n",
    "titanic[\"Name\"].head().sort_values(ascending=True)"
   ]
  },
  {
   "cell_type": "code",
   "execution_count": null,
   "metadata": {},
   "outputs": [],
   "source": [
    "titanic5P = titanic[\"Name\"].head().sort_values(ascending=True, ignore_index=True) #si quiero que se reindexe uso ignore_index=True\n",
    "titanic5P"
   ]
  },
  {
   "cell_type": "code",
   "execution_count": null,
   "metadata": {},
   "outputs": [],
   "source": [
    "#Ver todos los pasajeros cuyo nombre contenga la palabra Henry, contains una función del módulo str (string)\n",
    "titanic[\"Name\"].str.contains(\"Henry\")"
   ]
  },
  {
   "cell_type": "code",
   "execution_count": null,
   "metadata": {},
   "outputs": [],
   "source": [
    "titanic[titanic[\"Name\"].str.contains(\"Henry\")]"
   ]
  },
  {
   "cell_type": "code",
   "execution_count": null,
   "metadata": {},
   "outputs": [],
   "source": [
    "titanicHenry = titanic[\"Name\"].str.contains(\"Henry\") #creo una variable para guardar el filtro (da el mismo resultado que en la celda anterior)\n",
    "titanic[titanicHenry]"
   ]
  },
  {
   "cell_type": "code",
   "execution_count": null,
   "metadata": {},
   "outputs": [],
   "source": [
    "#Ver los pasajeros que viajaban en clase 2\n",
    "titanicC2 = titanic[\"Pclass\"] == 2\n",
    "titanic[titanicC2]"
   ]
  },
  {
   "cell_type": "code",
   "execution_count": null,
   "metadata": {},
   "outputs": [],
   "source": [
    "#Ver la estructura del dataframe con la función info\n",
    "titanic.info()"
   ]
  },
  {
   "cell_type": "markdown",
   "metadata": {},
   "source": [
    "En un fichero nuevo de Python:\n",
    "Cargaremos el fichero titanic.csv y resolveremos los siguientes enunciados.\n",
    "1- Ver los 6 primeros nombres de los pasajeros de la clase 1 (en orden descendente)\n",
    "2- Ver las 3 últimas edades de los pasejeros de la clase 3\n",
    "3- Ver los 4 primeros nombres de los pasajeros que no sean de la clase 2\n",
    "4- Ver los 6 primeros pasajeros cuyo nombre contiene la palabra Mary\n",
    "5- Ver los 10 primeros de nombres de los pasajeros que sobrevieron (survived = 0, survived = 1)"
   ]
  },
  {
   "cell_type": "code",
   "execution_count": null,
   "metadata": {},
   "outputs": [],
   "source": [
    "import pandas as pd #crear un nuevo fichero con file new file\n",
    "titanic = pd.read_csv(r\"C:\\Users\\geb_b\\Downloads\\Titanic.csv\")\n",
    "titanic\n",
    "\n",
    "#Punto1: Ver solamente los 6 primeros nombres de la clase 1 (descendente)\n",
    "\n",
    "# Filtrar los pasajeros de la clase 1\n",
    "titanic_clase1 = titanic[titanic[\"Pclass\"] == 1]\n",
    "\n",
    "# Seleccionar la columna \"Name\" y obtener los primeros 6 nombres\n",
    "primeros_6_nombres_clase1 = titanic_clase1[\"Name\"].head(6).sort_values(ascending=False)\n",
    "\n",
    "# Mostrar los resultados\n",
    "print(primeros_6_nombres_clase1)\n"
   ]
  },
  {
   "cell_type": "code",
   "execution_count": null,
   "metadata": {},
   "outputs": [],
   "source": [
    "#otra forma de hacer el punto 1 (forma hecha en clase por el profesor)\n",
    "titanicC1 = titanic[\"Pclass\"] == 1\n",
    "#Creando un dataframe nuevo solo con clase 1\n",
    "titanic2 = titanic[titanicC1]\n",
    "titanic2[\"Name\"].head(6).sort_values(ascending=False)\n",
    "\n",
    "titanic[titanicC1][\"Name\"].head(6).sort_values(ascending=False)\n",
    "titanic[titanicC1].Name.head(6).sort_values(ascending=False)\n",
    "titanic[\"Name\"][titanicC1].sort_values(ascending=False).head(6)   \n",
    "#Para ver más de un campo  \n",
    "titanic[[\"Name\", \"Age\", \"Sex\"]]"
   ]
  },
  {
   "cell_type": "code",
   "execution_count": null,
   "metadata": {},
   "outputs": [],
   "source": [
    "#Punto 2: Ver las 3 últimas edades de los pasejeros de la clase 3\n",
    "titanic_clase3 = titanic[titanic[\"Pclass\"] == 3]\n",
    "# Seleccionar la columna \"Age\" y obtener las últimas 3 edades\n",
    "ultimas_3_edades_clase3 = titanic_clase3[\"Age\"].tail(3)\n",
    "# Mostrar los resultados\n",
    "print(ultimas_3_edades_clase3)\n"
   ]
  },
  {
   "cell_type": "code",
   "execution_count": null,
   "metadata": {},
   "outputs": [],
   "source": [
    "#Punto 3: Ver los 4 primeros nombres de los pasajeros que no sean de la clase 2\n",
    "titanic_no_clase2 = titanic[titanic[\"Pclass\"] != 2]\n",
    "# Seleccionar la columna \"Name\" y obtener los primeros 4 nombres\n",
    "primeros_4_nombres_no_clase2 = titanic_no_clase2[\"Name\"].head(4)\n",
    "# Mostrar los resultados\n",
    "print(primeros_4_nombres_no_clase2)\n"
   ]
  },
  {
   "cell_type": "code",
   "execution_count": null,
   "metadata": {},
   "outputs": [],
   "source": [
    "#Punto 4: Ver los 6 primeros pasajeros cuyo nombre contiene la palabra Mary\n",
    "titanic_mary = titanic[titanic[\"Name\"].str.contains(\"Mary\")] #aquí hago el filtro\n",
    "# Seleccionar la columna \"Name\" y obtener los primeros 6 nombres\n",
    "primeros_6_nombres_mary = titanic_mary[\"Name\"].head(6)\n",
    "# Mostrar los resultados\n",
    "print(primeros_6_nombres_mary)\n"
   ]
  },
  {
   "cell_type": "code",
   "execution_count": null,
   "metadata": {},
   "outputs": [],
   "source": [
    "#Punto 5: Ver los 10 primeros de nombres de los pasajeros que sobrevieron (survived = 0, survived = 1)\n",
    "titanic_survived = titanic[titanic[\"Survived\"] == 1]\n",
    "# Seleccionar la columna \"Name\" y obtener los primeros 10 nombres\n",
    "primeros_10_nombres_survived = titanic_survived[\"Name\"].head(10)\n",
    "# Mostrar los resultados\n",
    "print(primeros_10_nombres_survived)\n",
    "titanic_no_survived = titanic[titanic[\"Survived\"] == 0]\n",
    "# Seleccionar la columna \"Name\" y obtener los primeros 10 nombres\n",
    "primeros_10_nombres_no_survived = titanic_no_survived[\"Name\"].head(10)\n",
    "# Mostrar los resultados\n",
    "print(primeros_10_nombres_no_survived)"
   ]
  },
  {
   "cell_type": "code",
   "execution_count": null,
   "metadata": {},
   "outputs": [],
   "source": [
    "#Como saber el número de personas de la clase 1\n",
    "numero = titanic[titanicC1].PassengerId.count()\n",
    "print(\"El número de personas de la clase 1 es:\", numero)"
   ]
  },
  {
   "cell_type": "code",
   "execution_count": null,
   "metadata": {},
   "outputs": [],
   "source": [
    "#Como aplicar más de una condición a un filtro, para ello usaremos los operadores de lógica OR y AND, \n",
    "#en el caso del OR usaremos este caracter| tecla ALT GR + 1, y en el caso del AND usaremos este \n",
    "#caracter & tecla ALT GR + 6\n",
    "titanicC13 = (titanic[\"Pclass\"] == 1) | (titanic[\"Pclass\"] == 3) #para que funcione tengo que poner paréntesis para cada condición\n",
    "titanic[titanicC13].PassengerId.count()"
   ]
  },
  {
   "cell_type": "code",
   "execution_count": null,
   "metadata": {},
   "outputs": [],
   "source": [
    "#Pasajeros de la clase 2, puerta S\n",
    "titanicC2PS = (titanic[\"Pclass\"] == 2) & (titanic[\"Embarked\"] == \"S\")\n",
    "titanic[titanicC2PS]"
   ]
  },
  {
   "cell_type": "code",
   "execution_count": null,
   "metadata": {},
   "outputs": [],
   "source": [
    "#Ver los diferentes valores de un campo, usaremos la función unique\n",
    "titanic[\"Pclass\"].unique()"
   ]
  },
  {
   "cell_type": "code",
   "execution_count": null,
   "metadata": {},
   "outputs": [],
   "source": [
    "#Practica 10: ver la cantidad de pasajeros que son hombres de la clase 1 y que embarcaron en la puerta S\n",
    "titanic_male_C1_PS = (titanic[\"Sex\"] == \"male\") & (titanic[\"Embarked\"] == \"S\") & (titanic[\"Pclass\"] == 1)\n",
    "print(\"El numero de pasajeros hombres de la clase 1 y que embarcaron en\", titanic[titanic_male_C1_PS].PassengerId.count())"
   ]
  },
  {
   "cell_type": "code",
   "execution_count": null,
   "metadata": {},
   "outputs": [],
   "source": [
    "#Practica 11: ver los nombres de los pasajeros de la clase 3 que no sobrevivieron\n",
    "titanic_no_survived_C3 = (titanic[\"Pclass\"] == 3) & (titanic[\"Survived\"] == 0)\n",
    "titanic[titanic_no_survived_C3][\"Name\"] #también puedo hacer .Name al final para ver solo los nombres"
   ]
  },
  {
   "cell_type": "code",
   "execution_count": null,
   "metadata": {},
   "outputs": [],
   "source": [
    "\n",
    "\n",
    "#Practica 12: ver los 12 últimos nombres en ordes descendente de los pasajeros que son mujeres de la clase 3 y \n",
    "#cuyo passangerId es mayor a 100\n",
    "titanic_female_C3 = (titanic[\"Sex\"]==\"female\") & (titanic[\"Name\"].tail(12).sort_values(ascending=False)) & (titanic[\"PassengerId\" > 100])\n",
    "titanic_female_C3"
   ]
  },
  {
   "cell_type": "code",
   "execution_count": null,
   "metadata": {},
   "outputs": [],
   "source": [
    "#Practica 13: ver una lista con los nombres cuyo passengerId esté comprendido entre 70 y 180\n",
    "\n",
    "titanic70180 = (titanic[\"PassengerId\"] >= 70) & (titanic[\"PassengerId\"] <= 180)\n",
    "titanic[titanic70180].Name"
   ]
  }
 ],
 "metadata": {
  "kernelspec": {
   "display_name": "Python 3",
   "language": "python",
   "name": "python3"
  },
  "language_info": {
   "codemirror_mode": {
    "name": "ipython",
    "version": 3
   },
   "file_extension": ".py",
   "mimetype": "text/x-python",
   "name": "python",
   "nbconvert_exporter": "python",
   "pygments_lexer": "ipython3",
   "version": "3.12.0"
  }
 },
 "nbformat": 4,
 "nbformat_minor": 2
}
