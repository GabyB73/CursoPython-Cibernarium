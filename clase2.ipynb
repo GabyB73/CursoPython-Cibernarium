{
 "cells": [
  {
   "cell_type": "code",
   "execution_count": null,
   "metadata": {},
   "outputs": [],
   "source": [
    "#La estructura de decisión if, analiza una condición y si se cumple ejecuta una parte verdadera, si no se cumple ejecuta una parte falsa.\n",
    "#Analizar una condición significa comparar 2 valores mediante un operador de comparación.\n",
    "#Los operadores de comparación son: ==, !=, <, >, <=, >=\n",
    "\n",
    "alfa = \"Barcelona\"\n",
    "if alfa == \"barcelona\":\n",
    "    #parte verdadera\n",
    "    print(\"Verdadero\")\n",
    "else:\n",
    "    #parte falsa\n",
    "    print(\"Falso\")"
   ]
  },
  {
   "cell_type": "markdown",
   "metadata": {},
   "source": [
    "PRACTICA 1: con la lista de meses y mediate un bucle for imprimir todos los meses, menos Junio\n",
    "\n",
    "PRACTICA 2: con una lista de números (15,33,48,62,25,57,84) y mediante un bucle for imprimir solamente los números mayores de 40.\n",
    "\n",
    "PRACTICA 3: con la lista de meses y mediante un bucle for imprimir todos los meses, cuyo número de caracteres de su nombre sea igual a 5"
   ]
  },
  {
   "cell_type": "code",
   "execution_count": null,
   "metadata": {},
   "outputs": [],
   "source": [
    "#Práctica 1:\n",
    "meses = [\"Enero\", \"Febrero\", \"Marzo\", \"Abril\", \"Mayo\", \"Junio\", \"Julio\", \"Agosto\",\n",
    "         \"Septiembre\", \"Octubre\", \"Noviembre\", \"Diciembre\"]\n",
    "#imprimir todos los meses menos Junio, sólo con un bucle for\n",
    "for mes in meses:\n",
    "    if mes == \"Junio\":      #también puede ser if mes != \"Junio\": (en este caso no irá el continue)\n",
    "        continue\n",
    "    print(mes)\n",
    "\n",
    "#Práctica 2:\n",
    "numeros = [15,33,48,62,25,57,84]\n",
    "#imprimir solo los números mayores a 40\n",
    "for numero in numeros:\n",
    "    if numero <= 40:        #también puede ser if numero > 40: (en este caso no irá el continue)\n",
    "        continue\n",
    "    print(numero)\n",
    "\n",
    "#Práctica 3:\n",
    "meses = [\"Enero\", \"Febrero\", \"Marzo\", \"Abril\", \"Mayo\", \"Junio\", \"Julio\", \"Agosto\",\n",
    "         \"Septiembre\", \"Octubre\", \"Noviembre\", \"Diciembre\"]\n",
    "#imprimir todos los meses cuyo número de caracteres de su nombre sea igual a 5\n",
    "for mes in meses:\n",
    "    if len(mes) != 5:    #también puede ser if len(mes) == 5: (en este caso no irá el continue)\n",
    "        continue\n",
    "    print(mes)\n"
   ]
  },
  {
   "cell_type": "markdown",
   "metadata": {},
   "source": [
    "En una estructura if, tengo 2 opciones de devolución\n",
    "if condición:\n",
    "    opción devolución 1\n",
    "else:\n",
    "    opción devolución 2\n",
    "con elif tendré más opciones de devolucione, sirve para analizar varias condiciones, la condición es que siempre se analiza el mismo valor "
   ]
  },
  {
   "cell_type": "code",
   "execution_count": null,
   "metadata": {},
   "outputs": [],
   "source": [
    "#esto es un if anidado\n",
    "provincia = \"Barcelona\"\n",
    "if provincia == \"Barcelona\":\n",
    "    #aquí tendría la primera opción\n",
    "    print(\"Barcelona\")\n",
    "elif provincia == \"Girona\":\n",
    "    #tendré la segunda opción\n",
    "    print(\"Girona\")\n",
    "elif provincia == \"Lleida\":\n",
    "    #tendré la tercera opción\n",
    "    print(\"Lleida\")\n",
    "elif provincia == \"Tarragona\":\n",
    "    #tendré la cuarta opción\n",
    "    print(\"Tarragona\")\n",
    "else:\n",
    "    #tendré la última opción\n",
    "    print(\"Otra provincia\")"
   ]
  },
  {
   "cell_type": "code",
   "execution_count": null,
   "metadata": {},
   "outputs": [],
   "source": [
    "#Clasificar el valor de una variable por múltiplos de 25, hasta el 100\n",
    "#asumimos que el número es positivo\n",
    "#un if anidado puede terminar sin un else y es correcto\n",
    "#importante: el orden de los if es importante, si empiezo en orden ascendente tengo que continuar con el mismo orden, o si elijo el orden descendente, tengo que continuar con el mismo orden\n",
    "x = 10\n",
    "if x <= 25:\n",
    "    print(\"Comprendido entre 0 y 25\")\n",
    "elif x <= 50:\n",
    "    print(\"Comprendido entre >25 y 50\")\n",
    "elif x <= 75:\n",
    "    print(\"Comprendido entre >50 y 75\")\n",
    "elif x <= 100:\n",
    "    print(\"Comprendido entre >75 y 100\")\n"
   ]
  },
  {
   "cell_type": "markdown",
   "metadata": {},
   "source": [
    "PRACTICA 4: mediante una lista numérica [13,27,34,87,123,46,61,88,32,-6,150,28] y usando un bucle for combinado con un if anidado, clasificar los números por múltiplos de 30 hasta 120, si no está en ese intervalo mostrar mensaje \"el número 13 está comprendido entre 0-30\""
   ]
  },
  {
   "cell_type": "code",
   "execution_count": null,
   "metadata": {},
   "outputs": [],
   "source": [
    "numeros2 = [13,27,34,87,123,46,61,88,32,-6,150,28]\n",
    "#clasificar los numeros por multiplos de 30 hasta 120\n",
    "for i in numeros2:\n",
    "    if i<0:\n",
    "        print(\"Numero\", i, \"está fuera de rango\")\n",
    "    elif i<=30:\n",
    "        print(\"Numero\", i, \"está comprendido entre 0-30\")\n",
    "    elif i<=60:\n",
    "        print(\"Numero\", i, \"está comprendido entre >30-60\")\n",
    "    elif i<=90:\n",
    "        print(\"Numero\", i, \"está comprendido entre >60-90\")\n",
    "    elif i<=120:\n",
    "        print(\"Numero\", i, \"está comprendido entre >90-120\")\n",
    "    else:\n",
    "        print(\"Numero\", i, \"está fuera de rango\")\n",
    "\n"
   ]
  },
  {
   "cell_type": "code",
   "execution_count": 13,
   "metadata": {},
   "outputs": [
    {
     "name": "stdout",
     "output_type": "stream",
     "text": [
      "X vale 10\n"
     ]
    }
   ],
   "source": [
    "#El switch...case Python, solo disponible a partir de la versión 3.10\n",
    "#se implementa con match + case\n",
    "x = 10\n",
    "match x:\n",
    "    case _ if  x <10:\n",
    "        print(\"X vale 1\")\n",
    "    case 2:\n",
    "        print(\"X vale 2\")\n",
    "    case 10:\n",
    "        print(\"X vale 10\")"
   ]
  },
  {
   "cell_type": "code",
   "execution_count": 14,
   "metadata": {},
   "outputs": [
    {
     "name": "stdout",
     "output_type": "stream",
     "text": [
      "D\n",
      "o\n",
      "m\n",
      "i\n"
     ]
    }
   ],
   "source": [
    "#como salir de un bucle, con la instrucción break\n",
    "dia = \"Domingo\"\n",
    "for letra in dia:\n",
    "    if letra == \"n\":\n",
    "        break\n",
    "    else:\n",
    "        print(letra)"
   ]
  },
  {
   "cell_type": "code",
   "execution_count": 15,
   "metadata": {},
   "outputs": [
    {
     "name": "stdout",
     "output_type": "stream",
     "text": [
      "D\n",
      "o\n",
      "m\n",
      "i\n",
      "g\n",
      "o\n"
     ]
    }
   ],
   "source": [
    "#como saltar una iteración de un bucle, con la instrucción continue\n",
    "dia = \"Domingo\"\n",
    "for letra in dia:\n",
    "    if letra == \"n\":\n",
    "        continue\n",
    "    else:\n",
    "        print(letra)"
   ]
  },
  {
   "cell_type": "code",
   "execution_count": 16,
   "metadata": {},
   "outputs": [
    {
     "name": "stdout",
     "output_type": "stream",
     "text": [
      "D\n",
      "O\n",
      "M\n",
      "I\n",
      "G\n",
      "O\n"
     ]
    }
   ],
   "source": [
    "#dos funciones de texto, LOWER y UPPER, para convertir mayusculas en minúsculas y viceversa\n",
    "#ejemplo 1\n",
    "dia = \"Domingo\"\n",
    "for letra in dia:\n",
    "    if letra == \"n\":\n",
    "        continue\n",
    "    else:\n",
    "        print(letra.upper())\n",
    "\n",
    "#ejemplo 2\n",
    "dia = \"DOMINGO\"\n",
    "for letra in dia:\n",
    "    if letra == \"n\":\n",
    "        continue\n",
    "    else:\n",
    "        print(letra.lower())\n",
    "\n",
    "#ejemplo 3\n",
    "dia = \"Domingo\"\n",
    "for letra in dia:\n",
    "    if letra.lower() == \"n\":\n",
    "        continue\n",
    "    else:\n",
    "        print(letra.lower())"
   ]
  },
  {
   "cell_type": "markdown",
   "metadata": {},
   "source": [
    "PRACTICA 5: imprimir las letras en mayúsculas de la palabra supercalifragilisticoespialidoso, menos las letras a\n",
    "\n",
    "PRACTICA 6: aprovechamos la lista numerica de la práctica 4, imprimir los valores de manera individual hasta que la suma de estos valores sea mayor a 100.\n",
    "\n",
    "PRACTICA 7: imprimir la lista de las siguientes ciudades Barcelona, Murcia, Valencia, Toledo, bilbao, Salamanca, Teruel, Burgos, Madrid, Tarragona, siempre y cuando el número de caracteres de su nombre sea diferente de 6"
   ]
  },
  {
   "cell_type": "code",
   "execution_count": 20,
   "metadata": {},
   "outputs": [
    {
     "name": "stdout",
     "output_type": "stream",
     "text": [
      "S U P E R C L I F R G I L I S T I C O E S P I L I D O S O "
     ]
    }
   ],
   "source": [
    "#VPRACTICA 5: imprimir las letras en mayúsculas de la palabra supercalifragilisticoespialidoso, menos las letras a\n",
    "palabra = \"supercalifragilisticoespialidoso\"\n",
    "for letra in palabra:\n",
    "    if letra == \"a\":\n",
    "        continue\n",
    "    else:\n",
    "        print(letra.upper(), end=\" \")"
   ]
  },
  {
   "cell_type": "code",
   "execution_count": 21,
   "metadata": {},
   "outputs": [
    {
     "name": "stdout",
     "output_type": "stream",
     "text": [
      "13\n",
      "27\n",
      "34\n"
     ]
    }
   ],
   "source": [
    "#PRACTICA 6: aprovechamos la lista numerica de la práctica 4, imprimir los valores de manera individual\n",
    "#hasta que la suma de estos valores sea mayor a 100.\n",
    "numeros3 = [13,27,34,87,123,46,61,88,32,-6,150,28]\n",
    "suma = 0\n",
    "for i in numeros3:  #también puede ser numero en lugar de i, y usar la variable numero2 de la práctica anterior en vez de volver a crear la lista aquí\n",
    "    suma += i\n",
    "    if suma > 100:\n",
    "        break\n",
    "    print(i)\n"
   ]
  },
  {
   "cell_type": "code",
   "execution_count": 22,
   "metadata": {},
   "outputs": [
    {
     "name": "stdout",
     "output_type": "stream",
     "text": [
      "Barcelona\n",
      "Valencia\n",
      "Salamanca\n",
      "Tarragona\n"
     ]
    }
   ],
   "source": [
    "#PRACTICA 7: imprimir la lista de las siguientes ciudades Barcelona, Murcia, Valencia, Toledo, \n",
    "#Bilbao, Salamanca, Teruel, Burgos, Madrid, Tarragona, siempre y cuando el número de caracteres \n",
    "#de su nombre sea diferente de 6\n",
    "ciudades = [\"Barcelona\", \"Murcia\", \"Valencia\", \"Toledo\", \"Bilbao\", \"Salamanca\", \"Teruel\", \n",
    "            \"Burgos\", \"Madrid\", \"Tarragona\"]\n",
    "for ciudad in ciudades:\n",
    "    if len(ciudad) == 6: #también puede ser if len(ciudad) != 6: (en este caso no irá el continue)\n",
    "        continue\n",
    "    print(ciudad)"
   ]
  },
  {
   "cell_type": "markdown",
   "metadata": {},
   "source": [
    "Las funciones personalizadas en Python, una función es un código que devuelve un resultado, las funciones sirven para oprtimizar código, permiten recursividad.\n",
    "Primero la palabra clave def, espacio en blanco y después el nombre de la función, no puede tener espacios en blanco, ni caracteres especiales, no empezar con número. Paréntesis de apertura \"(\", dentro los parámetros separados por coma, finalmente el parémntesis de cierre\")\".\n",
    "Primero ejecutar la función, para que quede en el kernel, después ya se la puede llamar."
   ]
  },
  {
   "cell_type": "code",
   "execution_count": 27,
   "metadata": {},
   "outputs": [],
   "source": [
    "#función para sumar 10 a un número, opción con print (devolverá texto, no se puede para una operación matemática)\n",
    "def suma10(x):\n",
    "    print(\"El resultado es\", x+10)"
   ]
  },
  {
   "cell_type": "code",
   "execution_count": 28,
   "metadata": {},
   "outputs": [
    {
     "name": "stdout",
     "output_type": "stream",
     "text": [
      "El resultado es 45\n"
     ]
    }
   ],
   "source": [
    "#aquí estamos llamando a la función suma10\n",
    "suma10(35)"
   ]
  },
  {
   "cell_type": "code",
   "execution_count": null,
   "metadata": {},
   "outputs": [],
   "source": [
    "14 + suma10(35) #esto dará error, porque la función suma10 no devuelve un valor numérico"
   ]
  },
  {
   "cell_type": "code",
   "execution_count": 29,
   "metadata": {},
   "outputs": [],
   "source": [
    "def suma20(x):\n",
    "    return x+20"
   ]
  },
  {
   "cell_type": "code",
   "execution_count": 30,
   "metadata": {},
   "outputs": [
    {
     "data": {
      "text/plain": [
       "39"
      ]
     },
     "execution_count": 30,
     "metadata": {},
     "output_type": "execute_result"
    }
   ],
   "source": [
    "14 + suma20(5)"
   ]
  },
  {
   "cell_type": "code",
   "execution_count": 31,
   "metadata": {},
   "outputs": [],
   "source": [
    "def sumaab(a,b):\n",
    "    return a+b"
   ]
  },
  {
   "cell_type": "code",
   "execution_count": 32,
   "metadata": {},
   "outputs": [
    {
     "data": {
      "text/plain": [
       "75"
      ]
     },
     "execution_count": 32,
     "metadata": {},
     "output_type": "execute_result"
    }
   ],
   "source": [
    "sumaab(15,60)"
   ]
  },
  {
   "cell_type": "markdown",
   "metadata": {},
   "source": [
    "PRACTICA 8: hacer una función que sume 12 a un número y lo divida entre 2 (que devuelva un texto).\n",
    "\n",
    "PRACTICA 9: hacer una función que pasándole un número entre el 1 y el 12 nos devuelva el mes en letras, ojo si se le pasa un valor que no esté en el intervalo.\n",
    "\n",
    "PRACTICA 10: crear una función que nos devuelva el área de un triángulo."
   ]
  },
  {
   "cell_type": "code",
   "execution_count": 53,
   "metadata": {},
   "outputs": [
    {
     "data": {
      "text/plain": [
       "('El resultado es', 23.5)"
      ]
     },
     "execution_count": 53,
     "metadata": {},
     "output_type": "execute_result"
    }
   ],
   "source": [
    "#PRACTICA 8: hacer una función que sume 12 a un número y lo divida entre 2 (que devuelva un texto).\n",
    "def suma12(x):\n",
    "    return \"El resultado es\", (x+12)/2 \n",
    "suma12(35)"
   ]
  },
  {
   "cell_type": "code",
   "execution_count": 54,
   "metadata": {},
   "outputs": [],
   "source": [
    "#otra forma de hacer la función anterior\n",
    "#la función round, que me hará un redondeo de un número decimal\n",
    "def suma12(x):\n",
    "    resultado = round((x+12)/2,2)\n",
    "    print(\"El resultado es\", resultado)"
   ]
  },
  {
   "cell_type": "code",
   "execution_count": 57,
   "metadata": {},
   "outputs": [
    {
     "name": "stdout",
     "output_type": "stream",
     "text": [
      "El resultado es 23.9\n"
     ]
    }
   ],
   "source": [
    "suma12(35.8)  "
   ]
  },
  {
   "cell_type": "code",
   "execution_count": 37,
   "metadata": {},
   "outputs": [
    {
     "data": {
      "text/plain": [
       "'Octubre'"
      ]
     },
     "execution_count": 37,
     "metadata": {},
     "output_type": "execute_result"
    }
   ],
   "source": [
    "#PRACTICA 9: hacer una función que pasándole un número entre el 1 y el 12 nos devuelva \n",
    "# el mes en letras, ojo si se le pasa un valor que no esté en el intervalo.\n",
    "#esta es la versión más optimizada\n",
    "def mes(x):\n",
    "    meses = [\"Enero\", \"Febrero\", \"Marzo\", \"Abril\", \"Mayo\", \"Junio\", \"Julio\", \"Agosto\",\n",
    "             \"Septiembre\", \"Octubre\", \"Noviembre\", \"Diciembre\"]\n",
    "    if x < 1 or x > 12: \n",
    "        return \"Número fuera de rango\"\n",
    "    return meses[x-1] #restamos 1 porque la lista empieza en 0\n",
    "\n",
    "mes(10)"
   ]
  },
  {
   "cell_type": "code",
   "execution_count": 47,
   "metadata": {},
   "outputs": [
    {
     "name": "stdout",
     "output_type": "stream",
     "text": [
      "Octubre\n"
     ]
    }
   ],
   "source": [
    "#otra forma de hacer la función anterior\n",
    "def devuelvemes(mes):\n",
    "    if mes<=0:\n",
    "        print(\"El número de mes no es válido\")\n",
    "    elif mes==1:\n",
    "        print(\"Enero\")\n",
    "    elif mes==2:\n",
    "        print(\"Febrero\")  \n",
    "    elif mes==3:\n",
    "        print(\"Marzo\")  \n",
    "#también se puede hacer con un match...case\n",
    "def devuelvemes(mes):\n",
    "    match mes:\n",
    "        case 1:\n",
    "            print(\"Enero\")\n",
    "        case 2:\n",
    "            print(\"Febrero\")\n",
    "        case 3:\n",
    "            print(\"Marzo\")\n",
    "        case 4:\n",
    "            print(\"Abril\")\n",
    "        case 5:\n",
    "            print(\"Mayo\")\n",
    "        case 6:\n",
    "            print(\"Junio\")\n",
    "        case 7:\n",
    "            print(\"Julio\")\n",
    "        case 8:\n",
    "            print(\"Agosto\")\n",
    "        case 9:\n",
    "            print(\"Septiembre\")\n",
    "        case 10:\n",
    "            print(\"Octubre\")\n",
    "        case 11:\n",
    "            print(\"Noviembre\")\n",
    "        case 12:\n",
    "            print(\"Diciembre\")\n",
    "        case _:\n",
    "            print(\"El número de mes no es válido\")\n",
    "devuelvemes(10)\n"
   ]
  },
  {
   "cell_type": "code",
   "execution_count": 40,
   "metadata": {},
   "outputs": [
    {
     "data": {
      "text/plain": [
       "637.5"
      ]
     },
     "execution_count": 40,
     "metadata": {},
     "output_type": "execute_result"
    }
   ],
   "source": [
    "#PRACTICA 10: crear una función que nos devuelva el área de un triángulo.\n",
    "def area_triangulo(base, altura):\n",
    "    return (base*altura)/2  #fórmula del área de un triángulo\n",
    "\n",
    "area_triangulo(85,15)"
   ]
  },
  {
   "cell_type": "markdown",
   "metadata": {},
   "source": [
    "PRACTICA 11: crear una función que nos compare dos números y me devuelva los 3 posibles resultados, A es mayor que B, A es menor que B, A y B son iguales.\n",
    "\n",
    "PRACTICA 12: aprovechando la función de la práctica 8, recorrer una lista con los siguientes números [15,24,78,63,57] y ver el resultado de después de aplicar la función."
   ]
  },
  {
   "cell_type": "code",
   "execution_count": 50,
   "metadata": {},
   "outputs": [
    {
     "data": {
      "text/plain": [
       "'A y B son iguales'"
      ]
     },
     "execution_count": 50,
     "metadata": {},
     "output_type": "execute_result"
    }
   ],
   "source": [
    "#PRACTICA 11: crear una función que nos compare dos números y me devuelva los 3 posibles resultados, \n",
    "# A es mayor que B, A es menor que B, A y B son iguales.\n",
    "def compararab(a,b):\n",
    "    if a > b:\n",
    "        return \"A es mayor que B\" #podria hacer print(\"El valor\", a, \"es mayor que\", b)\n",
    "    elif a < b:\n",
    "        return \"A es menor que B\"\n",
    "    else:\n",
    "        return \"A y B son iguales\"\n",
    "\n",
    "compararab(10,10)"
   ]
  },
  {
   "cell_type": "code",
   "execution_count": 52,
   "metadata": {},
   "outputs": [
    {
     "name": "stdout",
     "output_type": "stream",
     "text": [
      "El resultado es 13.5\n",
      "El resultado es 18.0\n",
      "El resultado es 45.0\n",
      "El resultado es 37.5\n",
      "El resultado es 34.5\n"
     ]
    }
   ],
   "source": [
    "numeros = [15,24,78,63,57]      #(x+12)/2 \n",
    "for numero in numeros:          #también puede ser for i in [15,24,78,63,57]:\n",
    "    suma12(numero)              #    suma12(i)"
   ]
  }
 ],
 "metadata": {
  "kernelspec": {
   "display_name": "Python 3",
   "language": "python",
   "name": "python3"
  },
  "language_info": {
   "codemirror_mode": {
    "name": "ipython",
    "version": 3
   },
   "file_extension": ".py",
   "mimetype": "text/x-python",
   "name": "python",
   "nbconvert_exporter": "python",
   "pygments_lexer": "ipython3",
   "version": "3.12.0"
  }
 },
 "nbformat": 4,
 "nbformat_minor": 2
}
