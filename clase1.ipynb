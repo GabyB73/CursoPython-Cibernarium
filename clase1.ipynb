{
 "cells": [
  {
   "cell_type": "code",
   "execution_count": null,
   "metadata": {},
   "outputs": [],
   "source": [
    "#Haremos una línea de comentario\n",
    "#Las variables, son elementos que almacenan temporalmente un valor\n",
    "#dónde: se alojan en el kernel\n",
    "#Las variables son elementos temporales, para asignar un valor a la variable ponemos el nombre de la variable x = 5\n",
    "x = 5"
   ]
  },
  {
   "cell_type": "code",
   "execution_count": null,
   "metadata": {},
   "outputs": [],
   "source": [
    "#Cómo ver el resultado,  se ve en el output\n",
    "print(x)\n",
    "print(x+2)"
   ]
  },
  {
   "cell_type": "code",
   "execution_count": null,
   "metadata": {},
   "outputs": [],
   "source": [
    "#Python es fuertemente tipado, distingue entre mayúsculas y minúsculas\n",
    "X = 3\n",
    "print(x+X)\n"
   ]
  },
  {
   "cell_type": "code",
   "execution_count": null,
   "metadata": {},
   "outputs": [],
   "source": [
    "#Variables alfanuméricas (letras, números, caracteres) entre comillas (dobles o simples)\n",
    "dia = \"Lunes\"\n",
    "print(dia)\n",
    "\n"
   ]
  },
  {
   "cell_type": "code",
   "execution_count": null,
   "metadata": {},
   "outputs": [],
   "source": [
    "#Cómo concatenar con la función print\n",
    "print(\"Hoy es\", dia, \"y mañana será Martes\")"
   ]
  },
  {
   "cell_type": "code",
   "execution_count": null,
   "metadata": {},
   "outputs": [],
   "source": [
    "#Cómo reasignar una variable, igual que asignar\n",
    "x = 8\n",
    "print(x)\n"
   ]
  },
  {
   "cell_type": "code",
   "execution_count": null,
   "metadata": {},
   "outputs": [],
   "source": [
    "#Listas, tuplas y diccionarios\n",
    "#Listas: son elementos que almacenan varios valores\n",
    "#Se definen con corchetes []\n",
    "#Los elementos se separan por \n",
    "#las listas pueden contener elementos de diferentes tipos, por ejemplo números y letras\n",
    "#para acceder a un elemento de la lista se usa el índice entre [] va el índice del elemento\n",
    "\n",
    "semana = [\"Lunes\", \"Martes\", \"Miércoles\", \"Jueves\",25,34]\n",
    "semana\n",
    "semana[0]\n",
    "semana[0] = \"Domingo\"\n",
    "print(semana)\n",
    "\n",
    "#tupla: son elementos que almacenan varios valores\n",
    "#Se definen con paréntesis ()\n",
    "#Los elementos se separan por comas\n",
    "meses = (\"Enero\", \"Febrero\", \"Marzo\", \"Abril\")\n"
   ]
  },
  {
   "cell_type": "code",
   "execution_count": null,
   "metadata": {},
   "outputs": [],
   "source": [
    "#función len, nos da el número de caracteres de un elemento\n",
    "len(dia)\n",
    "len(semana[0])\n",
    "len(semana)\n"
   ]
  },
  {
   "cell_type": "code",
   "execution_count": null,
   "metadata": {},
   "outputs": [],
   "source": [
    "#como añadir un elemento a una lista, con la función append\n",
    "semana.append(\"Viernes\")\n",
    "print(semana)"
   ]
  },
  {
   "cell_type": "code",
   "execution_count": null,
   "metadata": {},
   "outputs": [],
   "source": [
    "#para insertar un elemento con la función insert\n",
    "semana.insert(1, \"Lunes\")   \n",
    "print(semana)\n"
   ]
  },
  {
   "cell_type": "code",
   "execution_count": null,
   "metadata": {},
   "outputs": [],
   "source": [
    "#para ver cuantas veces está repetido un elemento en una lista, con la función count\n",
    "semana.count(\"Viernes\")"
   ]
  },
  {
   "cell_type": "code",
   "execution_count": null,
   "metadata": {},
   "outputs": [],
   "source": [
    "#como eliminar un elemento de una lista, con la función remove (es el primer elemento que encuentra) (elimina uno a uno)\n",
    "semana.remove(\"Viernes\")\n",
    "print(semana)"
   ]
  },
  {
   "cell_type": "code",
   "execution_count": null,
   "metadata": {},
   "outputs": [],
   "source": [
    "semana.append(\"Lunes\")\n",
    "print(semana)"
   ]
  },
  {
   "cell_type": "code",
   "execution_count": null,
   "metadata": {},
   "outputs": [],
   "source": [
    "#para eliminar según el índice\n",
    "del semana[1]\n",
    "print(semana)\n"
   ]
  },
  {
   "cell_type": "markdown",
   "metadata": {},
   "source": [
    "Práctica 1: crearemos una lista llamada meses, que tendrá los meses de enero a mayo, menos el abril. Después añadiremos junio y julio al final, insertaremos el mes de abril en su sitio correcto, añadiremos 2 veces más al final febrero, en una variable almacenaremos el número de veces que está el mes de febrero, después eliminaremos los febreros que sobran y en un texto nos tiene que mostrar cuantas veces estaba el mes de febrero."
   ]
  },
  {
   "cell_type": "code",
   "execution_count": null,
   "metadata": {},
   "outputs": [],
   "source": [
    "meses = [\"Enero\", \"Febrero\", \"Marzo\", \"Mayo\"]\n",
    "print(meses)\n",
    "#añadir junio y julio al final\n",
    "meses.append(\"Junio\")\n",
    "meses.append(\"Julio\")\n",
    "meses.insert(3, \"Abril\")\n",
    "print(meses)\n",
    "meses.append(\"Febrero\")\n",
    "print(meses)\n",
    "meses.append(\"Febrero\")\n",
    "print(meses)\n",
    "#en una variable alamacenar el número de veces que se repite febrero\n",
    "numero_febrero = meses.count(\"Febrero\")\n",
    "print(meses)\n",
    "#eliminar febrero\n",
    "\n",
    "#imprimir en un texto cuantas veces se repite febrero\n",
    "print(\"Febrero se repite\", meses.count(\"Febrero\"), \"veces\")\n",
    "del meses[7]\n",
    "print(meses)\n",
    "del meses[6]\n",
    "print(meses)\n",
    "\n"
   ]
  },
  {
   "cell_type": "markdown",
   "metadata": {},
   "source": [
    "Clase 1\n",
    "02/09/2024"
   ]
  },
  {
   "cell_type": "code",
   "execution_count": null,
   "metadata": {},
   "outputs": [],
   "source": [
    "#Lista numérica\n",
    "numeros = [15,24,78,63]\n",
    "numeros"
   ]
  },
  {
   "cell_type": "code",
   "execution_count": null,
   "metadata": {},
   "outputs": [],
   "source": [
    "#qué es range: es un range de números, se usa para generar una secuencia de números\n",
    "numeros2 = range(5)\n",
    "numeros2\n",
    "list(numeros2)\n"
   ]
  },
  {
   "cell_type": "markdown",
   "metadata": {},
   "source": [
    "El range si solo va un número, genera una lista que empieza por 0 y se autoincrementa en 1"
   ]
  },
  {
   "cell_type": "code",
   "execution_count": null,
   "metadata": {},
   "outputs": [],
   "source": [
    "numeros3 = range(10, 26)\n",
    "list(numeros3)\n",
    "#range(inicio, fin, paso) (para hacer de dos en dos)\n",
    "numeros3 = range(10, 26, 2)\n",
    "list(numeros3)"
   ]
  },
  {
   "cell_type": "code",
   "execution_count": null,
   "metadata": {},
   "outputs": [],
   "source": [
    "#si lo quiero hacer de manera regresiva\n",
    "numeros4 = range(32,10,-2)\n",
    "list(numeros4)\n"
   ]
  },
  {
   "cell_type": "code",
   "execution_count": null,
   "metadata": {},
   "outputs": [],
   "source": [
    "#Funciones de resumen sobre listas numéricas\n",
    "sum(numeros3)   #sumar los valores de la lista\n",
    "max(numeros3)   #ver el valor máximo de la lista\n",
    "min(numeros3)   #ver el valor mínimo de la lista\n"
   ]
  },
  {
   "cell_type": "markdown",
   "metadata": {},
   "source": [
    "El bucle: es el código que se repite hasta que se cumple una condición dada\n",
    "Tenemos de dos tipos, los finitos y los infinitos\n",
    "La diferencia es que el finito sabenos el número de iteraciones que tendrá\n",
    "Bucle FOR finito\n",
    "Bucle WHILE infinito"
   ]
  },
  {
   "cell_type": "code",
   "execution_count": null,
   "metadata": {},
   "outputs": [],
   "source": [
    "for i in numeros:\n",
    "    print(i)\n",
    "print(\"Terminado con éxito\")"
   ]
  },
  {
   "cell_type": "code",
   "execution_count": null,
   "metadata": {},
   "outputs": [],
   "source": [
    "iter = 1\n",
    "for i in [15,26,73]:\n",
    "    print(iter)\n",
    "    print(i)\n",
    "    iter = iter + 1     #contador\n",
    "    iter += 1           #este contador es igual al anterior"
   ]
  },
  {
   "cell_type": "code",
   "execution_count": null,
   "metadata": {},
   "outputs": [],
   "source": [
    "iter = 1    \n",
    "for mes in meses:   #para recorrer la colección de meses\n",
    "    print(\"el\", iter, \"mes del años es\" , mes)\n",
    "    iter += 1"
   ]
  },
  {
   "cell_type": "markdown",
   "metadata": {},
   "source": [
    "Practica 2: crear una lista con los meses de enero a diciembre y mediante un bucle for imprimir los meses poniendo el número de orden delante, solo imprimir los meses pares.\n",
    "\n",
    "Lo mismo pero que el texto ponga el primer mes del año enero, el segundo es febrero.\n",
    "for i in [1,3,5,7,9,11]:"
   ]
  },
  {
   "cell_type": "code",
   "execution_count": null,
   "metadata": {},
   "outputs": [],
   "source": [
    "# Lista de meses\n",
    "meses = [\"Enero\", \"Febrero\", \"Marzo\", \"Abril\", \"Mayo\", \"Junio\", \"Julio\", \"Agosto\", \"Septiembre\", \"Octubre\", \"Noviembre\", \"Diciembre\"]\n",
    "\n",
    "# Imprimir solo los meses pares\n",
    "for i in range(1, 12, 2):  # Empieza en 1 y salta de 2 en 2\n",
    "    print(\"el\" , i+1, \"mes del año es\" , meses[i])\n",
    "\n",
    "print()\n",
    "\n",
    "meses = [\"Enero\", \"Febrero\", \"Marzo\", \"Abril\", \"Mayo\", \"Junio\", \"Julio\", \"Agosto\", \"Septiembre\", \"Octubre\", \"Noviembre\", \"Diciembre\"]\n",
    "\n",
    "cardinales = [\"primero\", \"segundo\", \"tercero\", \"cuarto\", \"quinto\", \"sexto\", \"séptimo\", \"octavo\", \"noveno\", \"décimo\", \"undécimo\", \"duodécimo\"]\n",
    "\n",
    "\n",
    "# Imprimir los meses correspondientes a los índices específicos\n",
    "for i in [1,3,5,7,9,11]:\n",
    "    print(\"el\", cardinales[i], \"mes del año es\", meses[i])"
   ]
  },
  {
   "cell_type": "code",
   "execution_count": null,
   "metadata": {},
   "outputs": [],
   "source": [
    "palabra = \"Domingo\" #variable de tipo string que puedo recorrer e imprimir cada letra\n",
    "for letra in palabra:   #para recorrer la colección de letras\n",
    "    print(letra)\n",
    "print()\n",
    "palabra = \"Domingo\"  # variable de tipo string que puedo recorrer e imprimir cada letra\n",
    "for letra in palabra:  # para recorrer la colección de letras\n",
    "    print(letra, end=' ')  # imprime cada letra sin salto de línea"
   ]
  },
  {
   "cell_type": "code",
   "execution_count": null,
   "metadata": {},
   "outputs": [],
   "source": [
    "nombres = [\"ana\", \"maria\", \"luis\", \"pedro\"]\n",
    "nombres"
   ]
  }
 ],
 "metadata": {
  "kernelspec": {
   "display_name": "Python 3",
   "language": "python",
   "name": "python3"
  },
  "language_info": {
   "codemirror_mode": {
    "name": "ipython",
    "version": 3
   },
   "file_extension": ".py",
   "mimetype": "text/x-python",
   "name": "python",
   "nbconvert_exporter": "python",
   "pygments_lexer": "ipython3",
   "version": "3.12.0"
  }
 },
 "nbformat": 4,
 "nbformat_minor": 2
}
