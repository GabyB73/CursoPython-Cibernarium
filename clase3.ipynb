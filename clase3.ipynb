{
 "cells": [
  {
   "cell_type": "code",
   "execution_count": null,
   "metadata": {},
   "outputs": [],
   "source": [
    "#Función que separa un texto entre espacios en blanco, split\n",
    "palabra = \"La próxima clase será jueves y la siguiente lunes, viernes no vengo\"\n",
    "lista = palabra.split()\n",
    "#Ver un elemento concreto de la división con su índice, empieza por 0\n",
    "lista[5]\n",
    "#La función list nos muestra un objeto que contenga varios elementos\n",
    "list(lista)"
   ]
  },
  {
   "cell_type": "code",
   "execution_count": null,
   "metadata": {},
   "outputs": [],
   "source": [
    "#El bucle infinito while (mientras) \n",
    "i = 1 \n",
    "while i <= 3:\n",
    "    print(i)  #Imprime el valor de i y si lo dejo así sería un bucle infinito\n",
    "    i = i + 1   #Incrementa el valor de i en 1 entonces ya no será infinito"
   ]
  },
  {
   "cell_type": "markdown",
   "metadata": {},
   "source": [
    "PRACTICA 1: Mediante un bucle while imprimir el valor de una variable i siempre y cuando sea menor de 50, partiremos de i = 3 e incrementaremos de 3 en 3."
   ]
  },
  {
   "cell_type": "code",
   "execution_count": null,
   "metadata": {},
   "outputs": [],
   "source": [
    "i = 3\n",
    "while i < 50:\n",
    "    print(i)\n",
    "    i+=3  # i = i + 3"
   ]
  },
  {
   "cell_type": "code",
   "execution_count": null,
   "metadata": {},
   "outputs": [],
   "source": [
    "from datetime import date  #Sirve para trabajar con fechas - Aquí estoy llamando a una API \n",
    "hoy = date.today()\n",
    "print(hoy)\n",
    "#como puedo cambiar el formato de la fecha para la fecha de hoy\n",
    "hoy.strftime(\"%d/%m/%Y\")\n",
    "\n",
    "from datetime import datetime\n",
    "ahora = datetime.now()\n",
    "print(ahora)\n",
    "#obtener un periodo de una fecha\n",
    "print(\"El día actual es\", hoy.day)  #Solamente el día\n",
    "print(\"El mes actual es\", hoy.month)  #Solamente el mes\n",
    "print(\"El año actual es\", hoy.year)  #Solamente el año\n",
    "#Obtener por separado horas, minutos y segundos\n",
    "print(\"La hora actual es\", ahora.hour)\n",
    "print(\"Los minutos actuales son\", ahora.minute)\n",
    "print(\"Los segundos actuales son\", ahora.second)"
   ]
  },
  {
   "cell_type": "markdown",
   "metadata": {},
   "source": [
    "PRACTICA 2: Crear un código que me devuelva el número de minutos transcurridos entre la primera ejecución de una celda y la segunda ejecución de otra celda"
   ]
  },
  {
   "cell_type": "code",
   "execution_count": null,
   "metadata": {},
   "outputs": [],
   "source": [
    "#PRACTICA 2: Crear un código que me devuelva el número de minutos transcurridos \n",
    "# entre la primera ejecución de una celda y la segunda ejecución de otra celda \n",
    "# (necesito hacerlo en dos bloques distintos para poder tener los valores de la ejecución de cada celda)\n",
    "\n",
    "from datetime import datetime\n",
    "\n",
    "# Capturar la marca de tiempo inicial\n",
    "start_time = datetime.now()\n",
    "print(f\"Primera ejecución: {start_time}\")\n",
    "\n"
   ]
  },
  {
   "cell_type": "code",
   "execution_count": null,
   "metadata": {},
   "outputs": [],
   "source": [
    "from datetime import datetime\n",
    "\n",
    "# Capturar la marca de tiempo final\n",
    "end_time = datetime.now()\n",
    "print(f\"Segunda ejecución: {end_time}\")\n",
    "\n",
    "# Calcular la diferencia en minutos\n",
    "time_difference = end_time - start_time\n",
    "minutes_difference = time_difference.total_seconds() / 60\n",
    "print(f\"Minutos transcurridos: {minutes_difference:.2f}\")"
   ]
  },
  {
   "cell_type": "code",
   "execution_count": 8,
   "metadata": {},
   "outputs": [
    {
     "name": "stdout",
     "output_type": "stream",
     "text": [
      "2024-09-04 20:34:59.063470\n"
     ]
    }
   ],
   "source": [
    "#esta es la respuesta del profesor\n",
    "from datetime import datetime\n",
    "ahora1 = datetime.now()\n",
    "print(ahora1)"
   ]
  },
  {
   "cell_type": "code",
   "execution_count": 9,
   "metadata": {},
   "outputs": [
    {
     "name": "stdout",
     "output_type": "stream",
     "text": [
      "2024-09-04 20:35:04.755569\n"
     ]
    }
   ],
   "source": [
    "ahora2 = datetime.now()\n",
    "print(ahora2)\n"
   ]
  },
  {
   "cell_type": "code",
   "execution_count": 10,
   "metadata": {},
   "outputs": [
    {
     "name": "stdout",
     "output_type": "stream",
     "text": [
      "Primero 34 Segundo 35\n",
      "El número de minutos transcurridos entre la primera ejecución y la segunda es 1\n"
     ]
    }
   ],
   "source": [
    "#calcular la diferencia en minutos\n",
    "minuto1 = ahora1.minute\n",
    "minuto2 = ahora2.minute\n",
    "print(\"Primero\", minuto1, \"Segundo\", minuto2)\n",
    "resultado = minuto2 - minuto1\n",
    "print(\"El número de minutos transcurridos entre la primera ejecución y la segunda es\", resultado)   "
   ]
  },
  {
   "cell_type": "markdown",
   "metadata": {},
   "source": [
    "PRACTICA 3: Cuántos segundos van a transcurrir entre dos clics?"
   ]
  },
  {
   "cell_type": "code",
   "execution_count": 11,
   "metadata": {},
   "outputs": [
    {
     "name": "stdout",
     "output_type": "stream",
     "text": [
      "Primera ejecución: 2024-09-04 20:36:36.381244\n",
      "Segunda ejecución: 2024-09-04 20:36:36.381244\n",
      "El número de segundos transcurridos entre la primera ejecución y la segunda es 0.00\n"
     ]
    }
   ],
   "source": [
    "#ver porque esta opción creo que no es la correcta, no veo la cantidad de segundos\n",
    "\n",
    "# Celda 1\n",
    "from datetime import datetime\n",
    "\n",
    "# Capturar la marca de tiempo inicial\n",
    "ahora1 = datetime.now()\n",
    "print(f\"Primera ejecución: {ahora1}\")\n",
    "\n",
    "# Celda 2\n",
    "from datetime import datetime\n",
    "\n",
    "# Capturar la marca de tiempo final\n",
    "ahora2 = datetime.now()\n",
    "print(f\"Segunda ejecución: {ahora2}\")\n",
    "\n",
    "# Calcular la diferencia en segundos\n",
    "diferencia = ahora2 - ahora1\n",
    "segundos_transcurridos = diferencia.total_seconds()\n",
    "print(f\"El número de segundos transcurridos entre la primera ejecución y la segunda es {segundos_transcurridos:.2f}\")"
   ]
  },
  {
   "cell_type": "code",
   "execution_count": null,
   "metadata": {},
   "outputs": [],
   "source": [
    "#esta es la respuesta del profesor\n",
    "#calcular la diferencia en segundos\n",
    "minuto1 = ahora1.minute\n",
    "minuto2 = ahora2.minute\n",
    "segundo1 = ahora1.second\n",
    "segundo2 = ahora2.second\n",
    "\n",
    "if minuto1 == minuto2:\n",
    "    resultado = segundo2 - segundo1\n",
    "else:\n",
    "    resultado = (minuto2 - minuto1) * 60 + (segundo2 - segundo1)\n",
    "\n",
    "#print(\"Primero\", minuto1, \"Segundo\", minuto2)\n",
    "#resultado = minuto2 - minuto1\n",
    "print(\"El número de segundos transcurridos entre la primera ejecución y la segunda es\", resultado)   "
   ]
  },
  {
   "cell_type": "code",
   "execution_count": null,
   "metadata": {},
   "outputs": [],
   "source": [
    "resultado = ahora2 - ahora1\n",
    "resultado.total_seconds()"
   ]
  },
  {
   "cell_type": "code",
   "execution_count": null,
   "metadata": {},
   "outputs": [],
   "source": [
    "#Cómo ajustar una fecha concreta, 27/08/2024\n",
    "fecha = date(2024, 8, 27)\n",
    "#Con datetime primero año, después mes y por último día\n",
    "#fecha = datetime(Año, Mes, Día, Hora, Minutos, Segundos, Milisegundos)\n",
    "print(fecha)"
   ]
  },
  {
   "cell_type": "markdown",
   "metadata": {},
   "source": [
    "Las librerías en Python, llevan funcionalidades especiales para poder ser utilizadas, primero las tenemos que instalar y después llamarlas. Se instala con PIP o CONDA.\n",
    "PANDAS = sirve para trabajar con datos\n",
    "NUMPY = para trabajar con matrices\n",
    "MATPLOTLIB = para crear gráficos\n",
    "SCIKIT-LEARN = análisis predictivo\n",
    "\n",
    "En el símbolo del sistema (como administrador), haremos pip list (ver las librerías instaladas) \n",
    "para instalar: pip install pandas\n",
    "para desinstallar: pip uninstall pandas\n",
    "para instalar desde VSC: !pip install pandas"
   ]
  },
  {
   "cell_type": "code",
   "execution_count": null,
   "metadata": {},
   "outputs": [],
   "source": [
    "#Para usar una librería, hay que llamarla, crear una instancia\n",
    "import pandas as pd #pd es el objeto pandas"
   ]
  },
  {
   "cell_type": "markdown",
   "metadata": {},
   "source": [
    "Pandas sirve para trabajar con datos y tiene 3 tipos de estructuras diferentes:\n",
    "Series = estructuras de una dimensión, llevan un índice asociado.\n",
    "Dataframes = estructuras de dos dimensiones al estilo de una tabla de BBDD, campos + registros\n",
    "Paneles = estructura de tres dimensiones, como un cubo.\n",
    "Vamos a crear una serie de manera manual, son homogéneas (tienen el mismo tipo de dato)"
   ]
  },
  {
   "cell_type": "code",
   "execution_count": null,
   "metadata": {},
   "outputs": [],
   "source": [
    "#Crear una serie\n",
    "semana = pd.Series([\"Lunes\", \"Martes\", \"Miércoles\", \"Jueves\", \"Viernes\"])\n",
    "print(semana)"
   ]
  },
  {
   "cell_type": "code",
   "execution_count": null,
   "metadata": {},
   "outputs": [],
   "source": [
    "semanabis = [\"Lunes\", \"Martes\", \"Miércoles\", \"Jueves\", \"Viernes\"]\n",
    "semana2 = pd.Series(semanabis)\n",
    "print(semana2)\n",
    "\n",
    "                      "
   ]
  },
  {
   "cell_type": "code",
   "execution_count": null,
   "metadata": {},
   "outputs": [],
   "source": [
    "#series numéricas\n",
    "#sn es serie numérica y data es el argumento (escribir data= es opcional pero más académico)\n",
    "numeros = [12,57,89,45,67,23,90,34,56,78]\n",
    "sn = pd.Series(data=numeros) \n",
    "print(sn)"
   ]
  },
  {
   "cell_type": "code",
   "execution_count": null,
   "metadata": {},
   "outputs": [],
   "source": [
    "#Como ver el tamaño de una serie, con la función size\n",
    "sn.size #me da el número de elementos de la serie"
   ]
  },
  {
   "cell_type": "code",
   "execution_count": null,
   "metadata": {},
   "outputs": [],
   "source": [
    "#Como sumar los elementos de una serie, con la función sum\n",
    "print(\"La suma de la serie es\", sn.sum())"
   ]
  },
  {
   "cell_type": "code",
   "execution_count": null,
   "metadata": {},
   "outputs": [],
   "source": [
    "sn[1]"
   ]
  },
  {
   "cell_type": "code",
   "execution_count": null,
   "metadata": {},
   "outputs": [],
   "source": [
    "#el promedio de los elementos de una serie, con la función mean\n",
    "print(\"El promedio de la serie es\", round(sn.mean())) \n",
    "#si no pongo nada redondea al entero, sino tengo que poner la coma y \n",
    "# el numero de decimales que quiero tener por ejemplo round(sn.mean(), 2)"
   ]
  },
  {
   "cell_type": "code",
   "execution_count": null,
   "metadata": {},
   "outputs": [],
   "source": [
    "#El valor más grande y el más pequeño de la serie\n",
    "print(sn.max())\n",
    "print(sn.min())"
   ]
  },
  {
   "cell_type": "code",
   "execution_count": null,
   "metadata": {},
   "outputs": [],
   "source": [
    "#La suma acumulada, con la función cumsum\n",
    "print(sn)\n",
    "print(sn.cumsum())"
   ]
  },
  {
   "cell_type": "code",
   "execution_count": null,
   "metadata": {},
   "outputs": [],
   "source": [
    "#Ver la cantidad de veces que se repite cada valor\n",
    "sn2 = pd.Series([12,23,12,45,23,63,44,23])\n",
    "print(sn2.value_counts())"
   ]
  },
  {
   "cell_type": "code",
   "execution_count": null,
   "metadata": {},
   "outputs": [],
   "source": [
    "#Función estadísticas la varianza, la variabilidad de una serie de números con respecto a su media, \n",
    "# con la función var\n",
    "print(sn2.var())"
   ]
  },
  {
   "cell_type": "code",
   "execution_count": null,
   "metadata": {},
   "outputs": [],
   "source": [
    "#La desviación típica, es la desviación media de una variable, respecto a su media aritmética, con la función std\n",
    "print(sn2.std())"
   ]
  },
  {
   "cell_type": "code",
   "execution_count": null,
   "metadata": {},
   "outputs": [],
   "source": [
    "#Función para ver un resumen estadístico\n",
    "print(sn2.describe())"
   ]
  },
  {
   "cell_type": "code",
   "execution_count": null,
   "metadata": {},
   "outputs": [],
   "source": [
    "#Es aplicar una función a cada elemento de una serie, primero crear la función\n",
    "def suma5(x):\n",
    "    return x+5"
   ]
  },
  {
   "cell_type": "code",
   "execution_count": null,
   "metadata": {},
   "outputs": [],
   "source": [
    "#Si queremos tener guardada la serie con la función aplicada, asignarlo a un nuevo objeto\n",
    "sn3 = sn2.apply(suma5)"
   ]
  },
  {
   "cell_type": "code",
   "execution_count": null,
   "metadata": {},
   "outputs": [],
   "source": [
    "#como ordenar una serie sn (una de las cosas más importantes para trabajar con datos), con \n",
    "#con la propiedad ignore_index=True\n",
    "print(sn.sort_values(ascending=True, ignore_index=True))\n"
   ]
  },
  {
   "cell_type": "code",
   "execution_count": null,
   "metadata": {},
   "outputs": [],
   "source": [
    "print(sn.sort_values(ascending=False))"
   ]
  },
  {
   "cell_type": "code",
   "execution_count": null,
   "metadata": {},
   "outputs": [],
   "source": [
    "sn4 = sn.sort_values(ascending=True, ignore_index=True)\n",
    "sn4"
   ]
  },
  {
   "cell_type": "code",
   "execution_count": null,
   "metadata": {},
   "outputs": [],
   "source": [
    "#como filtrar una serie ((una de las cosas más importantes para trabajar con datos) también es el ordenar),\n",
    "# el filtro va entre corchetes\n",
    "sn[sn>60]"
   ]
  },
  {
   "cell_type": "markdown",
   "metadata": {},
   "source": [
    "PRACTICA 3: \n",
    "1º- crear una lista con los siguientes números [25,17,34,82,124,75,44,63,47,9,81,124,75] \n",
    "2º- con esta lista crearemos una serie de pandas llamada numvip, \n",
    "3º- clonaremos la serie para tener solamente los números mayores de 40 y además en orden descendente + reindexado. \n",
    "4º- Le llamaremos numvip40, a esta nueva serie le aplicaremos una función que sume 2 y divida por 1.25 a cada elemento de la serie. \n",
    "5º- Ver de la lista numvip40 la cantidad de veces que se repite cada número. \n",
    "6º- Ver en un texto el promedio de la lista numvip40 con redondero a 3 decimales, \n",
    "7º- ver en otro texto la desviación típica de numvip40 \n",
    "8º- y finalmente ver un texto con la varianza de numvip40 (después de aplicar la función)."
   ]
  },
  {
   "cell_type": "code",
   "execution_count": 89,
   "metadata": {},
   "outputs": [
    {
     "name": "stdout",
     "output_type": "stream",
     "text": [
      "El promedio de numvip40 es 65.156\n",
      "La desviación tipica de numvip40 es 22.975\n",
      "La variancia de numvip40 es 527.858\n"
     ]
    }
   ],
   "source": [
    "import pandas as pd\n",
    "#1º\n",
    "lista_numeros = [25,17,34,82,124,75,44,63,47,9,81,124,75]\n",
    "#2º\n",
    "numvip = pd.Series(data=lista_numeros)\n",
    "numvip\n",
    "#3º\n",
    "numvip40 = numvip[numvip>40].sort_values(ascending=False, ignore_index=True)\n",
    "numvip40\n",
    "#4º crear la función\n",
    "def sumaydivision(x):\n",
    "    return (x+2)/1.25\n",
    "#machacar, sobreescribir la misma serie\n",
    "numvip40 = numvip40.apply(sumaydivision)\n",
    "numvip40\n",
    "#5º\n",
    "numvip40.value_counts()\n",
    "#6º\n",
    "print(\"El promedio de numvip40 es\", round(numvip40.mean(),3))\n",
    "#7º\n",
    "print(\"La desviación tipica de numvip40 es\",round(numvip40.std(),3))\n",
    "print(\"La variancia de numvip40 es\", round(numvip40.var(),3))"
   ]
  }
 ],
 "metadata": {
  "kernelspec": {
   "display_name": "Python 3",
   "language": "python",
   "name": "python3"
  },
  "language_info": {
   "codemirror_mode": {
    "name": "ipython",
    "version": 3
   },
   "file_extension": ".py",
   "mimetype": "text/x-python",
   "name": "python",
   "nbconvert_exporter": "python",
   "pygments_lexer": "ipython3",
   "version": "3.12.0"
  }
 },
 "nbformat": 4,
 "nbformat_minor": 2
}
