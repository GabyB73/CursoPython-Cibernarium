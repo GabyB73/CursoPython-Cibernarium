{
 "cells": [
  {
   "cell_type": "code",
   "execution_count": null,
   "metadata": {},
   "outputs": [],
   "source": [
    "#Cargar un dataframe a partir de un fichero de excel, para leer un fichero de excel necesitaremos\n",
    "#instalar una librería llamada openpyxl, un dataframe cargará solamente una hoja de excel (tendremos que especificarla)\n",
    "!pip install openpyxl\n"
   ]
  },
  {
   "cell_type": "code",
   "execution_count": null,
   "metadata": {},
   "outputs": [],
   "source": [
    "import pandas as pd\n",
    "agosto2014 = pd.read_excel(r\"C:\\Users\\geb_b\\Downloads\\VentasGroucery_Meses.xlsx\"\n",
    "                           , sheet_name=\"Ventas Agosto 2014\")\n",
    "agosto2014\n",
    "\n",
    "septiembre2014 = pd.read_excel(r\"C:\\Users\\geb_b\\Downloads\\VentasGroucery_Meses.xlsx\"\n",
    "                           , sheet_name=\"Ventas Septiembre 2014\")\n",
    "septiembre2014\n"
   ]
  },
  {
   "cell_type": "code",
   "execution_count": null,
   "metadata": {},
   "outputs": [],
   "source": [
    "#Como anexar dos dataframes para obtener uno solo, con todos los registros\n",
    "#Warning: misma estructura de datos, mismo numero de columnas y con los mismos nombres, usaremos concat\n",
    "bimensual = pd.concat([agosto2014, septiembre2014], ignore_index=True)\n",
    "bimensual\n",
    "bimensual[\"Amount\"] = bimensual[\"Unit Price\"]*bimensual[\"Quantity\"]\n",
    "bimensual"
   ]
  }
 ],
 "metadata": {
  "kernelspec": {
   "display_name": "Python 3",
   "language": "python",
   "name": "python3"
  },
  "language_info": {
   "codemirror_mode": {
    "name": "ipython",
    "version": 3
   },
   "file_extension": ".py",
   "mimetype": "text/x-python",
   "name": "python",
   "nbconvert_exporter": "python",
   "pygments_lexer": "ipython3",
   "version": "3.12.0"
  }
 },
 "nbformat": 4,
 "nbformat_minor": 2
}
